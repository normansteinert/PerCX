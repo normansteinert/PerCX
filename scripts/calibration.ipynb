{
 "cells": [
  {
   "cell_type": "code",
   "execution_count": 14,
   "id": "ae6e85e4",
   "metadata": {},
   "outputs": [],
   "source": [
    "import numpy as np\n",
    "\n",
    "\n",
    "# load PerCX functions\n",
    "import sys\n",
    "sys.path.append('../src/percx/')\n",
    "from percx import *"
   ]
  },
  {
   "cell_type": "code",
   "execution_count": null,
   "id": "f8ab9907",
   "metadata": {},
   "outputs": [
    {
     "ename": "NameError",
     "evalue": "name 'dtas_data_gm' is not defined",
     "output_type": "error",
     "traceback": [
      "\u001b[31m---------------------------------------------------------------------------\u001b[39m",
      "\u001b[31mNameError\u001b[39m                                 Traceback (most recent call last)",
      "\u001b[36mCell\u001b[39m\u001b[36m \u001b[39m\u001b[32mIn[13]\u001b[39m\u001b[32m, line 9\u001b[39m\n\u001b[32m      6\u001b[39m decay_rate=\u001b[32m0.001\u001b[39m\n\u001b[32m      7\u001b[39m time = np.arange(\u001b[32m1850\u001b[39m,\u001b[32m2100\u001b[39m)\n\u001b[32m----> \u001b[39m\u001b[32m9\u001b[39m C_CO2, C_CH4 = PFC_species_response(\u001b[43mdtas_data_gm\u001b[49m, time, A_CO2, A_CH4, tau, C_max, decay_rate)\n",
      "\u001b[31mNameError\u001b[39m: name 'dtas_data_gm' is not defined"
     ]
    }
   ],
   "source": [
    "# example coefficients\n",
    "A_CO2 = 0.005\n",
    "A_CH4 = A_CO2/6\n",
    "tau = 100\n",
    "C_max = 1400\n",
    "decay_rate=0.001\n",
    "time = np.arange(1850,2100)\n",
    "\n",
    "#C_CO2, C_CH4 = PFC_species_response(dtas_data_gm, time, A_CO2, A_CH4, tau, C_max, decay_rate)"
   ]
  }
 ],
 "metadata": {
  "kernelspec": {
   "display_name": "percx",
   "language": "python",
   "name": "python3"
  },
  "language_info": {
   "codemirror_mode": {
    "name": "ipython",
    "version": 3
   },
   "file_extension": ".py",
   "mimetype": "text/x-python",
   "name": "python",
   "nbconvert_exporter": "python",
   "pygments_lexer": "ipython3",
   "version": "3.13.5"
  }
 },
 "nbformat": 4,
 "nbformat_minor": 5
}
